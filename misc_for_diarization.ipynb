{
 "cells": [
  {
   "cell_type": "markdown",
   "metadata": {},
   "source": [
    "## list value update for numerical sequence without changing index\n"
   ]
  },
  {
   "cell_type": "code",
   "execution_count": 3,
   "metadata": {
    "ExecuteTime": {
     "end_time": "2020-08-21T09:03:16.806190Z",
     "start_time": "2020-08-21T09:03:16.803812Z"
    }
   },
   "outputs": [],
   "source": [
    "import numpy as np"
   ]
  },
  {
   "cell_type": "code",
   "execution_count": 2,
   "metadata": {
    "ExecuteTime": {
     "end_time": "2020-08-21T12:16:53.203046Z",
     "start_time": "2020-08-21T12:16:53.200017Z"
    }
   },
   "outputs": [],
   "source": [
    "labels = [1, 2, 1, 4, 0, 6]"
   ]
  },
  {
   "cell_type": "code",
   "execution_count": 3,
   "metadata": {
    "ExecuteTime": {
     "end_time": "2020-08-21T12:16:53.748101Z",
     "start_time": "2020-08-21T12:16:53.744796Z"
    }
   },
   "outputs": [
    {
     "name": "stdout",
     "output_type": "stream",
     "text": [
      "4--0\n",
      "0--1\n",
      "1--2\n",
      "3--4\n",
      "5--6\n"
     ]
    }
   ],
   "source": [
    "unique_seq, unique_index = np.unique(labels, return_index=True)\n",
    "for seq, index in zip(unique_seq, unique_index):\n",
    "    print('{}--{}'.format(index, seq))"
   ]
  },
  {
   "cell_type": "code",
   "execution_count": 4,
   "metadata": {
    "ExecuteTime": {
     "end_time": "2020-08-21T12:16:55.427211Z",
     "start_time": "2020-08-21T12:16:55.422740Z"
    },
    "scrolled": true
   },
   "outputs": [
    {
     "data": {
      "text/plain": [
       "{1: 0, 2: 1, 4: 2, 0: 3, 6: 4}"
      ]
     },
     "execution_count": 4,
     "metadata": {},
     "output_type": "execute_result"
    }
   ],
   "source": [
    "sort = sorted(unique_index)\n",
    "new = [labels[i] for i in sort]\n",
    "pairs = {v : k for k,v in enumerate(new)}\n",
    "pairs"
   ]
  },
  {
   "cell_type": "code",
   "execution_count": 5,
   "metadata": {
    "ExecuteTime": {
     "end_time": "2020-08-21T12:16:56.638813Z",
     "start_time": "2020-08-21T12:16:56.635946Z"
    }
   },
   "outputs": [
    {
     "name": "stdout",
     "output_type": "stream",
     "text": [
      "[0, 1, 0, 2, 3, 4]\n"
     ]
    }
   ],
   "source": [
    "new_label = []\n",
    "for v in labels:\n",
    "    new_label.append(pairs[v])\n",
    "print(new_label)"
   ]
  },
  {
   "cell_type": "code",
   "execution_count": 6,
   "metadata": {
    "ExecuteTime": {
     "end_time": "2020-08-21T12:16:56.995932Z",
     "start_time": "2020-08-21T12:16:56.986635Z"
    }
   },
   "outputs": [],
   "source": [
    "def sort_speakers(labels):\n",
    "    _, index = np.unique(labels, return_index=True)\n",
    "    pairs = {labels[v]:k for k,v in enumerate(sorted(index))}\n",
    "    sorted_labels = [pairs[label] for label in labels]\n",
    "    return sorted_labels"
   ]
  },
  {
   "cell_type": "code",
   "execution_count": 7,
   "metadata": {
    "ExecuteTime": {
     "end_time": "2020-08-21T12:16:57.393964Z",
     "start_time": "2020-08-21T12:16:57.384808Z"
    }
   },
   "outputs": [
    {
     "name": "stdout",
     "output_type": "stream",
     "text": [
      "Old labels\n",
      "[1, 2, 1, 4, 0, 6]\n",
      "\n",
      "New labels\n",
      "[0, 1, 0, 2, 3, 4]\n"
     ]
    }
   ],
   "source": [
    "new_labels = sort_speakers(labels)\n",
    "print(f\"Old labels\\n{labels}\\n\")\n",
    "print(f\"New labels\\n{new_labels}\")"
   ]
  },
  {
   "cell_type": "markdown",
   "metadata": {},
   "source": [
    "## trimming audio with duration(bytes data)"
   ]
  },
  {
   "cell_type": "code",
   "execution_count": 4,
   "metadata": {
    "ExecuteTime": {
     "end_time": "2020-08-21T12:21:35.774608Z",
     "start_time": "2020-08-21T12:21:35.771459Z"
    }
   },
   "outputs": [],
   "source": [
    "from tools import wavSplit\n",
    "import os\n",
    "audio_path = r'/home/zmh/Desktop/HDD/Workspace/my_github/Speech-Diarization/test-data'\n",
    "wavfile = \"Mark Zuckerberg's 2004 Interview See How Far He And Facebook Have Come - YouTube.wav\"\n"
   ]
  },
  {
   "cell_type": "code",
   "execution_count": 5,
   "metadata": {
    "ExecuteTime": {
     "end_time": "2020-08-21T12:23:11.589292Z",
     "start_time": "2020-08-21T12:23:11.582200Z"
    }
   },
   "outputs": [
    {
     "name": "stdout",
     "output_type": "stream",
     "text": [
      "7176638 , 224.2699375 minutes\n"
     ]
    }
   ],
   "source": [
    "audio, sample_rate, audio_length = wavSplit.read_wave(os.path.join(audio_path, wavfile))\n",
    "print(len(audio),',' ,audio_length, 'minutes')"
   ]
  },
  {
   "cell_type": "code",
   "execution_count": 6,
   "metadata": {
    "ExecuteTime": {
     "end_time": "2020-08-21T12:25:47.500699Z",
     "start_time": "2020-08-21T12:25:47.492065Z"
    }
   },
   "outputs": [],
   "source": [
    "frames = list(wavSplit.frame_generator(30, audio, sample_rate))"
   ]
  },
  {
   "cell_type": "code",
   "execution_count": 7,
   "metadata": {
    "ExecuteTime": {
     "end_time": "2020-08-21T12:27:26.209280Z",
     "start_time": "2020-08-21T12:27:26.205545Z"
    }
   },
   "outputs": [
    {
     "data": {
      "text/plain": [
       "7475"
      ]
     },
     "execution_count": 7,
     "metadata": {},
     "output_type": "execute_result"
    }
   ],
   "source": [
    "len(frames)"
   ]
  },
  {
   "cell_type": "code",
   "execution_count": 8,
   "metadata": {},
   "outputs": [],
   "source": [
    "frame = frames[0]"
   ]
  },
  {
   "cell_type": "code",
   "execution_count": 9,
   "metadata": {},
   "outputs": [
    {
     "data": {
      "text/plain": [
       "0.03"
      ]
     },
     "execution_count": 9,
     "metadata": {},
     "output_type": "execute_result"
    }
   ],
   "source": [
    "frame.duration"
   ]
  },
  {
   "cell_type": "code",
   "execution_count": 10,
   "metadata": {},
   "outputs": [
    {
     "data": {
      "text/plain": [
       "960"
      ]
     },
     "execution_count": 10,
     "metadata": {},
     "output_type": "execute_result"
    }
   ],
   "source": [
    "frames[2].bytes.__len__()"
   ]
  },
  {
   "cell_type": "code",
   "execution_count": null,
   "metadata": {},
   "outputs": [],
   "source": []
  },
  {
   "cell_type": "code",
   "execution_count": 11,
   "metadata": {},
   "outputs": [],
   "source": [
    "def write_wave(audio, wav_name, sample_rate):\n",
    "    \"\"\"Writes a .wav file.\n",
    "    Takes path, PCM audio data, and sample rate.\n",
    "    \"\"\"\n",
    "    with contextlib.closing(wave.open(wav_name, 'wb')) as wf:\n",
    "        wf.setnchannels(1)\n",
    "        wf.setsampwidth(2)\n",
    "        wf.setframerate(sample_rate)\n",
    "        wf.writeframes(audio)\n"
   ]
  },
  {
   "cell_type": "code",
   "execution_count": 32,
   "metadata": {},
   "outputs": [],
   "source": [
    "def segment_bytes(audio, sample_rate, time_limit=60): \n",
    "    frame_byte_count = int(sample_rate * time_limit * 2)\n",
    "    offset = 0 \n",
    "    while offset + frame_byte_count -1 < len(audio):\n",
    "        yield audio[offset:offset + frame_byte_count] \n",
    "        offset += frame_byte_count\n",
    "    yield audio[offset:]"
   ]
  },
  {
   "cell_type": "code",
   "execution_count": 33,
   "metadata": {},
   "outputs": [
    {
     "data": {
      "text/plain": [
       "4"
      ]
     },
     "execution_count": 33,
     "metadata": {},
     "output_type": "execute_result"
    }
   ],
   "source": [
    "gen_bytes = list(segment_bytes(audio, sample_rate=16000, time_limit=60))\n",
    "len(gen_bytes)"
   ]
  },
  {
   "cell_type": "code",
   "execution_count": 20,
   "metadata": {},
   "outputs": [],
   "source": [
    "import contextlib\n",
    "import wave\n",
    "for i, byte in enumerate(gen_bytes):\n",
    "    write_wave(byte, 'test-{}.wav'.format(i), 16000)"
   ]
  },
  {
   "cell_type": "code",
   "execution_count": null,
   "metadata": {},
   "outputs": [],
   "source": []
  },
  {
   "cell_type": "code",
   "execution_count": 26,
   "metadata": {},
   "outputs": [
    {
     "data": {
      "text/plain": [
       "63.45"
      ]
     },
     "execution_count": 26,
     "metadata": {},
     "output_type": "execute_result"
    }
   ],
   "source": [
    "#load variable with pickle\n",
    "import pickle\n",
    "with open('facebook_interview_segments.pkl', 'rb') as f:\n",
    "    data = pickle.load(f)\n",
    "\n",
    "data[6].bytes.__len__()/32000"
   ]
  },
  {
   "cell_type": "code",
   "execution_count": 27,
   "metadata": {},
   "outputs": [],
   "source": [
    "# mark zuckerberg audio segment\n",
    "test = data[6]"
   ]
  },
  {
   "cell_type": "code",
   "execution_count": 31,
   "metadata": {},
   "outputs": [],
   "source": [
    "gen_bytes = list(segment_bytes(test.bytes, sample_rate=16000, time_limit=60))\n",
    "for i, byte in enumerate(gen_bytes):\n",
    "    write_wave(byte, 'seg-{}.wav'.format(i), 16000)"
   ]
  },
  {
   "cell_type": "code",
   "execution_count": 15,
   "metadata": {},
   "outputs": [
    {
     "data": {
      "text/plain": [
       "4"
      ]
     },
     "execution_count": 15,
     "metadata": {},
     "output_type": "execute_result"
    }
   ],
   "source": []
  },
  {
   "cell_type": "code",
   "execution_count": null,
   "metadata": {},
   "outputs": [],
   "source": []
  }
 ],
 "metadata": {
  "kernelspec": {
   "display_name": "Python 3",
   "language": "python",
   "name": "python3"
  },
  "language_info": {
   "codemirror_mode": {
    "name": "ipython",
    "version": 3
   },
   "file_extension": ".py",
   "mimetype": "text/x-python",
   "name": "python",
   "nbconvert_exporter": "python",
   "pygments_lexer": "ipython3",
   "version": "3.6.10"
  },
  "toc": {
   "base_numbering": 1,
   "nav_menu": {},
   "number_sections": true,
   "sideBar": true,
   "skip_h1_title": false,
   "title_cell": "Table of Contents",
   "title_sidebar": "Contents",
   "toc_cell": false,
   "toc_position": {},
   "toc_section_display": true,
   "toc_window_display": false
  },
  "varInspector": {
   "cols": {
    "lenName": 16,
    "lenType": 16,
    "lenVar": 40
   },
   "kernels_config": {
    "python": {
     "delete_cmd_postfix": "",
     "delete_cmd_prefix": "del ",
     "library": "var_list.py",
     "varRefreshCmd": "print(var_dic_list())"
    },
    "r": {
     "delete_cmd_postfix": ") ",
     "delete_cmd_prefix": "rm(",
     "library": "var_list.r",
     "varRefreshCmd": "cat(var_dic_list()) "
    }
   },
   "types_to_exclude": [
    "module",
    "function",
    "builtin_function_or_method",
    "instance",
    "_Feature"
   ],
   "window_display": false
  }
 },
 "nbformat": 4,
 "nbformat_minor": 4
}
