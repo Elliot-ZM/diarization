{
 "cells": [
  {
   "cell_type": "markdown",
   "metadata": {},
   "source": [
    "## list value update for numerical sequence without changing index\n"
   ]
  },
  {
   "cell_type": "code",
   "execution_count": 1,
   "metadata": {
    "ExecuteTime": {
     "end_time": "2020-08-21T09:03:16.806190Z",
     "start_time": "2020-08-21T09:03:16.803812Z"
    }
   },
   "outputs": [],
   "source": [
    "import numpy as np"
   ]
  },
  {
   "cell_type": "code",
   "execution_count": 54,
   "metadata": {
    "ExecuteTime": {
     "end_time": "2020-08-21T12:16:53.203046Z",
     "start_time": "2020-08-21T12:16:53.200017Z"
    }
   },
   "outputs": [],
   "source": [
    "labels = [1, 2, 1, 4, 0, 6]"
   ]
  },
  {
   "cell_type": "code",
   "execution_count": 55,
   "metadata": {
    "ExecuteTime": {
     "end_time": "2020-08-21T12:16:53.748101Z",
     "start_time": "2020-08-21T12:16:53.744796Z"
    }
   },
   "outputs": [
    {
     "name": "stdout",
     "output_type": "stream",
     "text": [
      "4--0\n",
      "0--1\n",
      "1--2\n",
      "3--4\n",
      "5--6\n"
     ]
    }
   ],
   "source": [
    "unique_seq, unique_index = np.unique(labels, return_index=True)\n",
    "for seq, index in zip(unique_seq, unique_index):\n",
    "    print('{}--{}'.format(index, seq))"
   ]
  },
  {
   "cell_type": "code",
   "execution_count": 56,
   "metadata": {
    "ExecuteTime": {
     "end_time": "2020-08-21T12:16:55.427211Z",
     "start_time": "2020-08-21T12:16:55.422740Z"
    },
    "scrolled": true
   },
   "outputs": [
    {
     "data": {
      "text/plain": [
       "{1: 0, 2: 1, 4: 2, 0: 3, 6: 4}"
      ]
     },
     "execution_count": 56,
     "metadata": {},
     "output_type": "execute_result"
    }
   ],
   "source": [
    "sort = sorted(unique_index)\n",
    "new = [labels[i] for i in sort]\n",
    "pairs = {v : k for k,v in enumerate(new)}\n",
    "pairs"
   ]
  },
  {
   "cell_type": "code",
   "execution_count": 57,
   "metadata": {
    "ExecuteTime": {
     "end_time": "2020-08-21T12:16:56.638813Z",
     "start_time": "2020-08-21T12:16:56.635946Z"
    }
   },
   "outputs": [
    {
     "name": "stdout",
     "output_type": "stream",
     "text": [
      "[0, 1, 0, 2, 3, 4]\n"
     ]
    }
   ],
   "source": [
    "new_label = []\n",
    "for v in labels:\n",
    "    new_label.append(pairs[v])\n",
    "print(new_label)"
   ]
  },
  {
   "cell_type": "code",
   "execution_count": 58,
   "metadata": {
    "ExecuteTime": {
     "end_time": "2020-08-21T12:16:56.995932Z",
     "start_time": "2020-08-21T12:16:56.986635Z"
    }
   },
   "outputs": [],
   "source": [
    "def sort_speakers(labels):\n",
    "    _, index = np.unique(labels, return_index=True)\n",
    "    pairs = {labels[v]:k for k,v in enumerate(sorted(index))}\n",
    "    sorted_labels = [pairs[label] for label in labels]\n",
    "    return sorted_labels"
   ]
  },
  {
   "cell_type": "code",
   "execution_count": 59,
   "metadata": {
    "ExecuteTime": {
     "end_time": "2020-08-21T12:16:57.393964Z",
     "start_time": "2020-08-21T12:16:57.384808Z"
    }
   },
   "outputs": [
    {
     "name": "stdout",
     "output_type": "stream",
     "text": [
      "Old labels\n",
      "[1, 2, 1, 4, 0, 6]\n",
      "\n",
      "New labels\n",
      "[0, 1, 0, 2, 3, 4]\n"
     ]
    }
   ],
   "source": [
    "new_labels = sort_speakers(labels)\n",
    "print(f\"Old labels\\n{labels}\\n\")\n",
    "print(f\"New labels\\n{new_labels}\")"
   ]
  },
  {
   "cell_type": "markdown",
   "metadata": {},
   "source": [
    "## trimming audio with duration(bytes data)"
   ]
  },
  {
   "cell_type": "code",
   "execution_count": 63,
   "metadata": {
    "ExecuteTime": {
     "end_time": "2020-08-21T12:21:35.774608Z",
     "start_time": "2020-08-21T12:21:35.771459Z"
    }
   },
   "outputs": [],
   "source": [
    "from tools import wavSplit\n",
    "import os\n",
    "audio_path = r'/home/zmh/hdd/Custom_Projects/Speaker-Diarization/test-data'\n",
    "wavfile = \"Mark Zuckerberg's 2004 Interview See How Far He And Facebook Have Come - YouTube.wav\"\n"
   ]
  },
  {
   "cell_type": "code",
   "execution_count": 69,
   "metadata": {
    "ExecuteTime": {
     "end_time": "2020-08-21T12:23:11.589292Z",
     "start_time": "2020-08-21T12:23:11.582200Z"
    }
   },
   "outputs": [
    {
     "name": "stdout",
     "output_type": "stream",
     "text": [
      "224.2699375 , 224.2699375 minutes\n"
     ]
    }
   ],
   "source": [
    "audio, sample_rate, audio_length = wavSplit.read_wave(os.path.join(audio_path, wavfile))\n",
    "print(len(audio),',' ,audio_length, 'minutes')"
   ]
  },
  {
   "cell_type": "code",
   "execution_count": 78,
   "metadata": {
    "ExecuteTime": {
     "end_time": "2020-08-21T12:25:47.500699Z",
     "start_time": "2020-08-21T12:25:47.492065Z"
    }
   },
   "outputs": [
    {
     "data": {
      "text/plain": [
       "b'\\x00\\x00\\xff\\xff\\x00\\x00\\xff\\xff\\x00\\x00\\xff\\xff\\xff\\xff\\xff\\xff\\xff\\xff\\xff\\xff'"
      ]
     },
     "execution_count": 78,
     "metadata": {},
     "output_type": "execute_result"
    }
   ],
   "source": [
    "audio[-20:]"
   ]
  },
  {
   "cell_type": "code",
   "execution_count": 83,
   "metadata": {
    "ExecuteTime": {
     "end_time": "2020-08-21T12:27:26.209280Z",
     "start_time": "2020-08-21T12:27:26.205545Z"
    }
   },
   "outputs": [
    {
     "data": {
      "text/plain": [
       "3.7378322916666664"
      ]
     },
     "execution_count": 83,
     "metadata": {},
     "output_type": "execute_result"
    }
   ],
   "source": []
  },
  {
   "cell_type": "code",
   "execution_count": null,
   "metadata": {},
   "outputs": [],
   "source": []
  }
 ],
 "metadata": {
  "kernelspec": {
   "display_name": "Python 3",
   "language": "python",
   "name": "python3"
  },
  "language_info": {
   "codemirror_mode": {
    "name": "ipython",
    "version": 3
   },
   "file_extension": ".py",
   "mimetype": "text/x-python",
   "name": "python",
   "nbconvert_exporter": "python",
   "pygments_lexer": "ipython3",
   "version": "3.6.8"
  },
  "toc": {
   "base_numbering": 1,
   "nav_menu": {},
   "number_sections": true,
   "sideBar": true,
   "skip_h1_title": false,
   "title_cell": "Table of Contents",
   "title_sidebar": "Contents",
   "toc_cell": false,
   "toc_position": {},
   "toc_section_display": true,
   "toc_window_display": false
  },
  "varInspector": {
   "cols": {
    "lenName": 16,
    "lenType": 16,
    "lenVar": 40
   },
   "kernels_config": {
    "python": {
     "delete_cmd_postfix": "",
     "delete_cmd_prefix": "del ",
     "library": "var_list.py",
     "varRefreshCmd": "print(var_dic_list())"
    },
    "r": {
     "delete_cmd_postfix": ") ",
     "delete_cmd_prefix": "rm(",
     "library": "var_list.r",
     "varRefreshCmd": "cat(var_dic_list()) "
    }
   },
   "types_to_exclude": [
    "module",
    "function",
    "builtin_function_or_method",
    "instance",
    "_Feature"
   ],
   "window_display": false
  }
 },
 "nbformat": 4,
 "nbformat_minor": 4
}
